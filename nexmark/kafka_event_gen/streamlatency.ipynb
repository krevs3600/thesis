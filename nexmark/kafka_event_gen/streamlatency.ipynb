{
 "cells": [
  {
   "cell_type": "code",
   "execution_count": null,
   "metadata": {},
   "outputs": [],
   "source": [
    "import seaborn as sns\n",
    "import pandas as pd\n",
    "import matplotlib.pyplot as plt\n",
    "import numpy as np\n",
    "\n",
    "path=\"csv2/\"\n",
    "\n",
    "# Load the data\n",
    "d_in = pd.read_csv(f'{path}/incoming_events.csv', dtype={'timestamp': 'int64', 'event_time': 'int64'})\n",
    "d_out = pd.read_csv(f'{path}/outgoing_events.csv', dtype={'timestamp': 'int64', 'event_time': 'int64'})\n",
    "\n",
    "# Add discriminator column\n",
    "d_in['discriminator'] = 'output'\n",
    "d_out['discriminator'] = 'input'\n",
    "\n",
    "# Concatenate the datasets\n",
    "df = pd.concat([d_in, d_out], ignore_index=True)\n",
    "df.sort_values(by=['event_time'], kind=\"stable\", inplace=True)\n",
    "print(df.describe())\n",
    "\n",
    "print(np.quantile(np.diff(df[\"event_time\"], 1), [0.5, 0.75, 0.9, 0.99, 0.999, 0.9999, 0.999999, 1]))\n",
    "\n",
    "df.drop(df[df[\"event_time\"].quantile(0.2) - df[\"event_time\"] > 3000].index, inplace=True) # Tolgo gli elementi all'inzio perché sono un po' sballati\n",
    "\n",
    "print(np.quantile(np.diff(df[\"event_time\"], 1), [0.5, 0.75, 0.9, 0.99, 0.999, 0.9999, 0.999999, 1]))\n",
    "\n",
    "\n",
    "df[\"timestamp\"] = df[\"timestamp\"] - df[\"timestamp\"].min()\n",
    "df[\"event_time\"] = df[\"event_time\"] - df[\"event_time\"].min()\n",
    "\n",
    "print((df[\"event_time\"].quantile(0.5) - df[\"event_time\"].min()) / 1000)\n",
    "\n",
    "# df[\"timestamp\"] = df[\"timestamp\"] / df[\"timestamp\"].max()\n",
    "# df[\"event_time\"] = df[\"event_time\"] / df[\"event_time\"].max()\n",
    "\n",
    "# df = df.groupby(['discriminator', 'event_time']).mean().reset_index()\n"
   ]
  },
  {
   "cell_type": "code",
   "execution_count": null,
   "metadata": {},
   "outputs": [],
   "source": [
    "sns.relplot(data=df, x=\"event_time\", y=\"timestamp\", hue=\"discriminator\", kind=\"line\", alpha=0.75, linewidth=0.6)\n",
    "plt.show()"
   ]
  },
  {
   "cell_type": "code",
   "execution_count": null,
   "metadata": {},
   "outputs": [],
   "source": [
    "sns.displot(data=df, x=\"event_time\", col=\"discriminator\", kind=\"hist\", bins=50, facet_kws={\"sharex\": False, \"sharey\": False})\n",
    "plt.show()"
   ]
  },
  {
   "cell_type": "code",
   "execution_count": null,
   "metadata": {},
   "outputs": [],
   "source": [
    "sns.displot(data=df, x=\"timestamp\", col=\"discriminator\", kind=\"hist\", bins=50, facet_kws={\"sharex\": False, \"sharey\": False})\n",
    "plt.show()"
   ]
  },
  {
   "cell_type": "code",
   "execution_count": null,
   "metadata": {},
   "outputs": [],
   "source": [
    "df[\"real_time_s\"] = df[\"timestamp\"] / 1e9\n",
    "df[\"event_time_s\"] = df[\"event_time\"] / 1e3\n",
    "\n",
    "dout = df[df['discriminator'] == 'output'][['event_time_s', 'real_time_s']]\n",
    "din = df[df['discriminator'] == 'input'][['event_time_s', 'real_time_s']]\n",
    "\n",
    "# For interpolation to be meaningful we need to have only one y for each x\n",
    "dout = dout.groupby(['event_time_s']).mean().reset_index()\n",
    "din = din.groupby(['event_time_s']).mean().reset_index()\n",
    "\n",
    "# IDK why, but the first two elements are bad\n",
    "dout = dout[2:]\n",
    "din = din[2:]\n",
    "\n",
    "\n",
    "rt_in_interp = np.interp(dout['event_time_s'], din['event_time_s'], din['real_time_s'])\n",
    "rt_out_interp = np.interp(din['event_time_s'], dout['event_time_s'], dout['real_time_s'])\n",
    "\n",
    "data = pd.DataFrame({'event_time_s': dout['event_time_s'], 'real_delta_s': dout['real_time_s'] - rt_in_interp})\n",
    "sns.relplot(data=data, x=\"event_time_s\", y=\"real_delta_s\", kind=\"scatter\", alpha=0.2, linewidth=0)\n",
    "sns.displot(data=data, x=\"real_delta_s\", kind=\"hist\", bins=50)"
   ]
  },
  {
   "cell_type": "code",
   "execution_count": null,
   "metadata": {},
   "outputs": [],
   "source": [
    "dout_et_interp = np.interp(din[\"real_time_s\"], dout[\"real_time_s\"], dout[\"event_time_s\"])\n",
    "data = pd.DataFrame({'real_time_s': dout['real_time_s'], 'event_delta_s': din['event_time_s'] - dout_et_interp})\n",
    "sns.relplot(data=data, x=\"real_time_s\", y=\"event_delta_s\", kind=\"scatter\", alpha=0.2, linewidth=0)\n",
    "sns.displot(data=data, x=\"event_delta_s\", kind=\"hist\", bins=50)"
   ]
  },
  {
   "cell_type": "code",
   "execution_count": null,
   "metadata": {},
   "outputs": [],
   "source": [
    "df[\"real_time_s\"] = df[\"timestamp\"] / 1e9\n",
    "df[\"event_time_s\"] = df[\"event_time\"] / 1e3\n",
    "\n",
    "dout = df[df['discriminator'] == 'output'][['event_time_s', 'real_time_s']]\n",
    "din = df[df['discriminator'] == 'input'][['event_time_s', 'real_time_s']]\n",
    "\n",
    "# For interpolation to be meaningful we need to have only one y for each x\n",
    "dout = dout.groupby(['event_time_s']).mean().reset_index()\n",
    "din = din.groupby(['event_time_s']).mean().reset_index()\n",
    "\n",
    "# IDK why, but the first two elements are bad\n",
    "dout = dout[2:]\n",
    "din = din[2:]\n",
    "\n",
    "\n",
    "rt_in_interp = np.interp(dout['event_time_s'], din['event_time_s'], din['real_time_s'])\n",
    "rt_out_interp = np.interp(din['event_time_s'], dout['event_time_s'], dout['real_time_s'])\n",
    "\n",
    "data = pd.DataFrame({'event_time_s': dout['event_time_s'], 'real_delta_s': dout['real_time_s'] - rt_in_interp})\n",
    "sns.relplot(data=data, x=\"event_time_s\", y=\"real_delta_s\", kind=\"scatter\", alpha=0.2, linewidth=0)\n",
    "sns.displot(data=data, x=\"real_delta_s\", kind=\"hist\", bins=50)"
   ]
  }
 ],
 "metadata": {
  "kernelspec": {
   "display_name": "Python 3",
   "language": "python",
   "name": "python3"
  },
  "language_info": {
   "codemirror_mode": {
    "name": "ipython",
    "version": 3
   },
   "file_extension": ".py",
   "mimetype": "text/x-python",
   "name": "python",
   "nbconvert_exporter": "python",
   "pygments_lexer": "ipython3",
   "version": "3.13.0"
  }
 },
 "nbformat": 4,
 "nbformat_minor": 2
}
